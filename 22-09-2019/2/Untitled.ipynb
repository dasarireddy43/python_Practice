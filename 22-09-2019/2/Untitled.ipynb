{
 "cells": [
  {
   "cell_type": "code",
   "execution_count": 10,
   "metadata": {},
   "outputs": [
    {
     "name": "stdout",
     "output_type": "stream",
     "text": [
      "Enter the first number:\t9\n",
      "Enter the second number:\t8\n",
      "Enter the third  number:\t8\n"
     ]
    }
   ],
   "source": [
    "num1=int(input(\"Enter the first number:\\t\"))\n",
    "num2=int(input(\"Enter the second number:\\t\"))\n",
    "num3=int(input(\"Enter the third  number:\\t\"))\n",
    "\n",
    "\n",
    "def largest(num1,num2,num3):\n",
    "    if (num1 > num2)and(num1 > num3):\n",
    "        largest_num1\n",
    "    elif (num2 > num1)and(num2 > num3):\n",
    "        largest_num2\n",
    "    else:\n",
    "        largest_num3\n",
    "    print(\"largest of 3 numbers:\",largest_num)\n",
    "\n",
    "\n",
    "\n"
   ]
  },
  {
   "cell_type": "code",
   "execution_count": 12,
   "metadata": {},
   "outputs": [
    {
     "ename": "SyntaxError",
     "evalue": "invalid syntax (<ipython-input-12-e58c187ddde1>, line 5)",
     "output_type": "error",
     "traceback": [
      "\u001b[0;36m  File \u001b[0;32m\"<ipython-input-12-e58c187ddde1>\"\u001b[0;36m, line \u001b[0;32m5\u001b[0m\n\u001b[0;31m    elif (if (num1 >= num2) and (num1 >= num3):\u001b[0m\n\u001b[0m       ^\u001b[0m\n\u001b[0;31mSyntaxError\u001b[0m\u001b[0;31m:\u001b[0m invalid syntax\n"
     ]
    }
   ],
   "source": [
    "num1 = 10\n",
    "num2 = 14\n",
    "num3 = 12\n",
    "largest = num1\n",
    "elif (if (num1 >= num2) and (num1 >= num3):\n",
    "num2 >= num1) and (num2 >= num3):\n",
    "   largest = num2\n",
    "else:\n",
    "   largest = num3\n",
    "\n",
    "print(\"The largest number between\",num1,\",\",num2,\"and\",num3,\"is\",largest)"
   ]
  },
  {
   "cell_type": "code",
   "execution_count": 17,
   "metadata": {},
   "outputs": [
    {
     "ename": "IndentationError",
     "evalue": "unexpected indent (<ipython-input-17-39fcc960e6ca>, line 15)",
     "output_type": "error",
     "traceback": [
      "\u001b[0;36m  File \u001b[0;32m\"<ipython-input-17-39fcc960e6ca>\"\u001b[0;36m, line \u001b[0;32m15\u001b[0m\n\u001b[0;31m    if (elif (num1 >= num2) and (num1 >= num3):\u001b[0m\n\u001b[0m    ^\u001b[0m\n\u001b[0;31mIndentationError\u001b[0m\u001b[0;31m:\u001b[0m unexpected indent\n"
     ]
    }
   ],
   "source": [
    "# Python program to find the largest number among the three input numbers\n",
    "\n",
    "# change the values of num1, num2 and num3\n",
    "# for a different result\n",
    "num1 = 10\n",
    "num2 = 14\n",
    "num3 = 12\n",
    "\n",
    "# uncomment following lines to take three numbers from user\n",
    "#num1 = float(input(\"Enter first number: \"))\n",
    "#num2 = float(input(\"Enter second number: \"))\n",
    "#num3 = float(input(\"Enter third number: \"))\n",
    "\n",
    "largest = num1\n",
    "    if (elif (num1 >= num2) and (num1 >= num3):\n",
    "    num2 >= num1) and (num2 >= num3):\n",
    "    largest = num2\n",
    "    else:\n",
    "    largest = num3\n",
    "\n",
    "print(\"The largest number between\",num1,\",\",num2,\"and\",num3,\"is\",largest)"
   ]
  },
  {
   "cell_type": "code",
   "execution_count": 18,
   "metadata": {},
   "outputs": [
    {
     "name": "stdout",
     "output_type": "stream",
     "text": [
      "Enter the first number: 9\n",
      "Enter the second number: 8\n",
      "Enter the Third number: 6\n",
      "Largest number is 9\n"
     ]
    }
   ],
   "source": [
    "num1=int(input(\"Enter the first number: \"));\n",
    "num2=int(input(\"Enter the second number: \"));\n",
    "num3=int(input(\"Enter the Third number: \"));\n",
    "def find_Biggest():      #function definition\n",
    "     if(num1>=num2) and (num1>=num2):\n",
    "         largest=num1\n",
    "     elif(num2>=num1) and (num2>=num3):\n",
    "         largest=num2\n",
    "     else:\n",
    "         largest=num3\n",
    "     print(\"Largest number is\",largest)\n",
    "find_Biggest();         #function call"
   ]
  },
  {
   "cell_type": "code",
   "execution_count": null,
   "metadata": {},
   "outputs": [],
   "source": []
  }
 ],
 "metadata": {
  "kernelspec": {
   "display_name": "Python 3",
   "language": "python",
   "name": "python3"
  },
  "language_info": {
   "codemirror_mode": {
    "name": "ipython",
    "version": 3
   },
   "file_extension": ".py",
   "mimetype": "text/x-python",
   "name": "python",
   "nbconvert_exporter": "python",
   "pygments_lexer": "ipython3",
   "version": "3.7.3"
  }
 },
 "nbformat": 4,
 "nbformat_minor": 2
}
