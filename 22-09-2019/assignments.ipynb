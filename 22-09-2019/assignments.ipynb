{
 "cells": [
  {
   "cell_type": "code",
   "execution_count": 9,
   "metadata": {},
   "outputs": [
    {
     "name": "stdout",
     "output_type": "stream",
     "text": [
      "Enter the first number: 9\n",
      "Enter the second number: 99\n",
      "Enter the Third number: 90\n",
      "Largest number is 99\n"
     ]
    }
   ],
   "source": [
    "num1=int(input(\"Enter the first number: \"));\n",
    "num2=int(input(\"Enter the second number: \"));\n",
    "num3=int(input(\"Enter the Third number: \"));\n",
    "def find_Biggest():      #function definition\n",
    "     if(num1 >= num2) and (num1 >= num2):\n",
    "         largest=num1\n",
    "     elif(num2 >= num1) and (num2 >= num3):\n",
    "         largest=num2\n",
    "     else:\n",
    "        largest=num3\n",
    "     print(\"Largest number is\",largest)\n",
    "find_Biggest();         #function call"
   ]
  },
  {
   "cell_type": "code",
   "execution_count": 10,
   "metadata": {},
   "outputs": [
    {
     "name": "stdout",
     "output_type": "stream",
     "text": [
      "Enter the first number: 99\n",
      "Enter the second number: 89\n",
      "Enter the Third number: 100\n"
     ]
    }
   ],
   "source": [
    "num1=int(input(\"Enter the first number: \"));\n",
    "num2=int(input(\"Enter the second number: \"));\n",
    "num3=int(input(\"Enter the Third number: \"));\n",
    "def find_Biggest1():#function definition\n",
    "    if(num1>num2):\n",
    "        if(num1>num3):\n",
    "             largest=num1\n",
    "        else:\n",
    "             largest=num3\n",
    "    else:\n",
    "        if num2>num3:\n",
    "            largest=num2\n",
    "    \n",
    "        else:\n",
    "            largest=num3\n",
    "        #Display the laegest number\n",
    "            \n",
    "        print(\"Largest number is: \",largest)"
   ]
  },
  {
   "cell_type": "code",
   "execution_count": 11,
   "metadata": {},
   "outputs": [
    {
     "name": "stdout",
     "output_type": "stream",
     "text": [
      "Enter First number : 9\n",
      "Enter Second number : 99\n",
      "Enter Third number : 100\n"
     ]
    }
   ],
   "source": [
    "number1 = int(input('Enter First number : '))\n",
    "number2 = int(input('Enter Second number : '))\n",
    "number3 = int(input('Enter Third number : '))\n",
    "def largest(num1, num2, num3):\n",
    "    if (num1 > num2) and (num1 > num3):\n",
    "        largest_num = num1\n",
    "    elif (num2 > num1) and (num2 > num3):\n",
    "        largest_num = num2\n",
    "    else:\n",
    "        largest_num = num3\n",
    "    print(\"The largest of the 3 numbers is : \", largest_num)\n"
   ]
  },
  {
   "cell_type": "code",
   "execution_count": 12,
   "metadata": {},
   "outputs": [
    {
     "name": "stdout",
     "output_type": "stream",
     "text": [
      "Enter First number : 99\n",
      "Enter Second number : 66\n",
      "Enter Third number : 77\n",
      "The largest of the 3 numbers is :  99\n",
      "The smallest of the 3 numbers is :  66\n"
     ]
    }
   ],
   "source": [
    "number1 = int(input('Enter First number : '))\n",
    "number2 = int(input('Enter Second number : '))\n",
    "number3 = int(input('Enter Third number : '))\n",
    "def largest(num1, num2, num3):\n",
    "    if (num1 > num2) and (num1 > num3):\n",
    "        largest_num = num1\n",
    "    elif (num2 > num1) and (num2 > num3):\n",
    "        largest_num = num2\n",
    "    else:\n",
    "        largest_num = num3\n",
    "    print(\"The largest of the 3 numbers is : \", largest_num)\n",
    "def smallest(num1, num2, num3):\n",
    "    if (num1 < num2) and (num1 < num3):\n",
    "        smallest_num = num1\n",
    "    elif (num2 < num1) and (num2 < num3):\n",
    "        smallest_num = num2\n",
    "    else:\n",
    "        smallest_num = num3\n",
    "    print(\"The smallest of the 3 numbers is : \", smallest_num)\n",
    "largest(number1, number2, number3)\n",
    "smallest(number1, number2, number3)\n"
   ]
  },
  {
   "cell_type": "code",
   "execution_count": null,
   "metadata": {},
   "outputs": [],
   "source": []
  }
 ],
 "metadata": {
  "kernelspec": {
   "display_name": "Python 3",
   "language": "python",
   "name": "python3"
  },
  "language_info": {
   "codemirror_mode": {
    "name": "ipython",
    "version": 3
   },
   "file_extension": ".py",
   "mimetype": "text/x-python",
   "name": "python",
   "nbconvert_exporter": "python",
   "pygments_lexer": "ipython3",
   "version": "3.7.3"
  }
 },
 "nbformat": 4,
 "nbformat_minor": 2
}
