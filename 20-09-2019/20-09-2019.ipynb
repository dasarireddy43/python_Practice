{
 "cells": [
  {
   "cell_type": "markdown",
   "metadata": {},
   "source": [
    "## Day Objectives:\n",
    "#### Functions:\n",
    "- user Defined Functions\n",
    " - user can build his own logic\n",
    "   def fun_name():\n",
    "     print(\"hello\")\n",
    "     print(\"Hii\")\n",
    "  \n",
    "     "
   ]
  },
  {
   "cell_type": "code",
   "execution_count": 3,
   "metadata": {},
   "outputs": [
    {
     "name": "stdout",
     "output_type": "stream",
     "text": [
      "gangi\n",
      "hello\n",
      "Hii\n",
      "reddy\n"
     ]
    }
   ],
   "source": [
    "def fun_name():\n",
    "     print(\"hello\")\n",
    "     print(\"Hii\")\n",
    "print(\"gangi\")\n",
    "fun_name()\n",
    "print(\"reddy\")"
   ]
  },
  {
   "cell_type": "code",
   "execution_count": 6,
   "metadata": {},
   "outputs": [
    {
     "name": "stdout",
     "output_type": "stream",
     "text": [
      "i am without passing arguments and without return\n"
     ]
    }
   ],
   "source": [
    "# without passing arguments and without return \n",
    "def show():\n",
    "    print(\"i am without passing arguments and without return\")\n",
    "show()\n",
    "\n",
    "\n",
    "    "
   ]
  },
  {
   "cell_type": "code",
   "execution_count": 9,
   "metadata": {},
   "outputs": [
    {
     "name": "stdout",
     "output_type": "stream",
     "text": [
      "without passing arguments and return result\n"
     ]
    }
   ],
   "source": [
    "# without passing arguments and return result\n",
    "def display():\n",
    "    return \"without passing arguments and return result\"\n",
    "display()\n",
    "rs=display()\n",
    "print(rs)\n"
   ]
  },
  {
   "cell_type": "code",
   "execution_count": 15,
   "metadata": {},
   "outputs": [
    {
     "name": "stdout",
     "output_type": "stream",
     "text": [
      "addition of num1 and num2 is 15\n"
     ]
    }
   ],
   "source": [
    "# passing arguments and withoutreturn result\n",
    "def add(num1,num2):\n",
    "    print(\"addition of num1 and num2 is\",num1+num2)\n",
    "add(8,7)\n"
   ]
  },
  {
   "cell_type": "code",
   "execution_count": 22,
   "metadata": {},
   "outputs": [
    {
     "name": "stdout",
     "output_type": "stream",
     "text": [
      "d1*d2 18\n"
     ]
    }
   ],
   "source": [
    "# passing arguments and return result\n",
    "def mul(d1,d2):\n",
    "    return d1*d2\n",
    "#print(\"mul of numbers is:\",mul(9,8))\n",
    "ga=mul(9,2)\n",
    "print(\"d1*d2\",ga)\n",
    "\n"
   ]
  },
  {
   "cell_type": "code",
   "execution_count": 2,
   "metadata": {},
   "outputs": [
    {
     "name": "stdout",
     "output_type": "stream",
     "text": [
      "enter the firest number:8\n",
      "enter the second number:9\n",
      "val1+val2 is 17\n",
      "val1-val2 is -1\n",
      "val1*val2 is 72\n",
      "val1%val2 is 8\n"
     ]
    }
   ],
   "source": [
    "val1=int(input(\"enter the firest number:\"))\n",
    "val2=int(input(\"enter the second number:\"))\n",
    "def add(num1,num2):\n",
    "    return num1+num2\n",
    "print(\"val1+val2 is\",add(val1,val2))\n",
    "def sub(num1,num2):\n",
    "    return num1-num2\n",
    "print(\"val1-val2 is\",sub(val1,val2))\n",
    "def mul(num1,num2):\n",
    "    return num1*num2\n",
    "print(\"val1*val2 is\",mul(val1,val2))\n",
    "def div(num1,num2):\n",
    "    return num1%num2\n",
    "print(\"val1%val2 is\",div(val1,val2))\n",
    "\n",
    "\n",
    "\n",
    "\n"
   ]
  },
  {
   "cell_type": "markdown",
   "metadata": {},
   "source": [
    "## other Functions in python\n",
    " - default arguments\n",
    " - required arguments\n",
    " - keyword arguments\n",
    " - variable length arguments\n"
   ]
  },
  {
   "cell_type": "markdown",
   "metadata": {},
   "source": [
    " # default arguments\n",
    " - print(\"hello\")\n",
    " - print(\"hii\")\n",
    " \n",
    "\n"
   ]
  },
  {
   "cell_type": "code",
   "execution_count": 4,
   "metadata": {},
   "outputs": [
    {
     "name": "stdout",
     "output_type": "stream",
     "text": [
      "hello hii #### apssdc mstp\n"
     ]
    }
   ],
   "source": [
    "# default arguments\n",
    "print(\"hello\",end=\" \")\n",
    "print(\"hii\",end=\" ####\")\n",
    "print(\" apssdc mstp\")\n",
    " "
   ]
  },
  {
   "cell_type": "code",
   "execution_count": 11,
   "metadata": {},
   "outputs": [
    {
     "name": "stdout",
     "output_type": "stream",
     "text": [
      "5\n",
      "10\n",
      "6\n",
      "14\n"
     ]
    }
   ],
   "source": [
    "def add(n1=0,n2=0,n3=0,n4=0):\n",
    "    return n1+n2+n3+n4\n",
    "print(add(5))\n",
    "print(add(5,5))\n",
    "print(add(1,2,3))\n",
    "print(add(5,4,3,2))"
   ]
  },
  {
   "cell_type": "code",
   "execution_count": 13,
   "metadata": {},
   "outputs": [
    {
     "name": "stdout",
     "output_type": "stream",
     "text": [
      "5 10 6 14\n"
     ]
    }
   ],
   "source": [
    "def add(n1=0,n2=0,n3=0,n4=0):\n",
    "    return n1+n2+n3+n4\n",
    "print(add(5),add(5,5),add(1,2,3),add(5,4,3,2))"
   ]
  },
  {
   "cell_type": "code",
   "execution_count": 14,
   "metadata": {},
   "outputs": [
    {
     "ename": "TypeError",
     "evalue": "range expected 1 arguments, got 0",
     "output_type": "error",
     "traceback": [
      "\u001b[0;31m---------------------------------------------------------------------------\u001b[0m",
      "\u001b[0;31mTypeError\u001b[0m                                 Traceback (most recent call last)",
      "\u001b[0;32m<ipython-input-14-6cd8a989b460>\u001b[0m in \u001b[0;36m<module>\u001b[0;34m\u001b[0m\n\u001b[1;32m      1\u001b[0m \u001b[0;31m# required arguments example is\u001b[0m\u001b[0;34m\u001b[0m\u001b[0;34m\u001b[0m\u001b[0;34m\u001b[0m\u001b[0m\n\u001b[0;32m----> 2\u001b[0;31m \u001b[0mrange\u001b[0m\u001b[0;34m(\u001b[0m\u001b[0;34m)\u001b[0m\u001b[0;34m\u001b[0m\u001b[0;34m\u001b[0m\u001b[0m\n\u001b[0m",
      "\u001b[0;31mTypeError\u001b[0m: range expected 1 arguments, got 0"
     ]
    }
   ],
   "source": [
    "# required arguments example is\n",
    "range()"
   ]
  },
  {
   "cell_type": "code",
   "execution_count": 15,
   "metadata": {},
   "outputs": [
    {
     "ename": "TypeError",
     "evalue": "mul() missing 1 required positional argument: 'b'",
     "output_type": "error",
     "traceback": [
      "\u001b[0;31m---------------------------------------------------------------------------\u001b[0m",
      "\u001b[0;31mTypeError\u001b[0m                                 Traceback (most recent call last)",
      "\u001b[0;32m<ipython-input-15-836fac8337aa>\u001b[0m in \u001b[0;36m<module>\u001b[0;34m\u001b[0m\n\u001b[1;32m      1\u001b[0m \u001b[0;32mdef\u001b[0m \u001b[0mmul\u001b[0m\u001b[0;34m(\u001b[0m\u001b[0ma\u001b[0m\u001b[0;34m,\u001b[0m\u001b[0mb\u001b[0m\u001b[0;34m)\u001b[0m\u001b[0;34m:\u001b[0m\u001b[0;34m\u001b[0m\u001b[0;34m\u001b[0m\u001b[0m\n\u001b[1;32m      2\u001b[0m     \u001b[0;32mreturn\u001b[0m \u001b[0ma\u001b[0m\u001b[0;34m*\u001b[0m\u001b[0mb\u001b[0m\u001b[0;34m\u001b[0m\u001b[0;34m\u001b[0m\u001b[0m\n\u001b[0;32m----> 3\u001b[0;31m \u001b[0mprint\u001b[0m\u001b[0;34m(\u001b[0m\u001b[0mmul\u001b[0m\u001b[0;34m(\u001b[0m\u001b[0;36m9\u001b[0m\u001b[0;34m)\u001b[0m\u001b[0;34m)\u001b[0m\u001b[0;34m\u001b[0m\u001b[0;34m\u001b[0m\u001b[0m\n\u001b[0m",
      "\u001b[0;31mTypeError\u001b[0m: mul() missing 1 required positional argument: 'b'"
     ]
    }
   ],
   "source": [
    "def mul(a,b):\n",
    "    return a*b\n",
    "print(mul(9))"
   ]
  },
  {
   "cell_type": "code",
   "execution_count": 19,
   "metadata": {},
   "outputs": [
    {
     "name": "stdout",
     "output_type": "stream",
     "text": [
      "512\n"
     ]
    }
   ],
   "source": [
    "# keyword arguments example print(end\",\")\n",
    "def power(base,exp):\n",
    "    return base**exp\n",
    "print(power(exp=9,base=2))"
   ]
  },
  {
   "cell_type": "code",
   "execution_count": 1,
   "metadata": {},
   "outputs": [
    {
     "name": "stdout",
     "output_type": "stream",
     "text": [
      "6 <class 'tuple'>\n",
      "sum of vals is: 530\n"
     ]
    }
   ],
   "source": [
    "# variable length arguments example \n",
    "def sm(*vals):\n",
    "    print(len(vals),type(vals))\n",
    "    print('sum of vals is:',sum(vals))\n",
    "sm(1,2,23,45,3,456,)"
   ]
  },
  {
   "cell_type": "code",
   "execution_count": 3,
   "metadata": {},
   "outputs": [
    {
     "name": "stdout",
     "output_type": "stream",
     "text": [
      "7 <class 'list'>\n",
      "sum of vals is: 535\n"
     ]
    }
   ],
   "source": [
    "def sm(vals):\n",
    "    print(len(vals),type(vals))\n",
    "    print('sum of vals is:',sum(vals))\n",
    "sm([1,2,23,45,3,456,5])"
   ]
  },
  {
   "cell_type": "markdown",
   "metadata": {},
   "source": [
    "## conditional control statements:\n",
    " - it controls flow of execution based on condition\n",
    "   - 3 types\n",
    "       - conditional statements\n",
    "       - iterative statements or looping statements\n",
    "       - jumping statements"
   ]
  },
  {
   "cell_type": "markdown",
   "metadata": {},
   "source": [
    "## conditional statements are\n",
    "  - if(relational,logic)\n",
    "  - if else\n",
    "  - if else lader\n",
    "  - nested if else"
   ]
  },
  {
   "cell_type": "code",
   "execution_count": 4,
   "metadata": {},
   "outputs": [
    {
     "name": "stdout",
     "output_type": "stream",
     "text": [
      "4 is smaller than 5\n"
     ]
    }
   ],
   "source": [
    "if(4<5):\n",
    "    print(\"4 is smaller than 5\")"
   ]
  },
  {
   "cell_type": "code",
   "execution_count": 6,
   "metadata": {},
   "outputs": [
    {
     "name": "stdout",
     "output_type": "stream",
     "text": [
      "ur in else block\n",
      "ur smaller\n"
     ]
    }
   ],
   "source": [
    "if(9<5):\n",
    "    print(\" ur in if block\")\n",
    "    print(\"ur bigger\")\n",
    "else:\n",
    "    print(\"ur in else block\")\n",
    "    print(\"ur smaller\")"
   ]
  },
  {
   "cell_type": "code",
   "execution_count": 7,
   "metadata": {},
   "outputs": [
    {
     "name": "stdout",
     "output_type": "stream",
     "text": [
      "ur in elif block\n"
     ]
    }
   ],
   "source": [
    "if (5<4):\n",
    "    print(\"ur in if block\")\n",
    "elif(6<7):\n",
    "    print(\"ur in elif block\")\n",
    "else:\n",
    "    print(\"ur in else block\")"
   ]
  },
  {
   "cell_type": "code",
   "execution_count": null,
   "metadata": {},
   "outputs": [],
   "source": []
  }
 ],
 "metadata": {
  "kernelspec": {
   "display_name": "Python 3",
   "language": "python",
   "name": "python3"
  },
  "language_info": {
   "codemirror_mode": {
    "name": "ipython",
    "version": 3
   },
   "file_extension": ".py",
   "mimetype": "text/x-python",
   "name": "python",
   "nbconvert_exporter": "python",
   "pygments_lexer": "ipython3",
   "version": "3.7.3"
  }
 },
 "nbformat": 4,
 "nbformat_minor": 2
}
